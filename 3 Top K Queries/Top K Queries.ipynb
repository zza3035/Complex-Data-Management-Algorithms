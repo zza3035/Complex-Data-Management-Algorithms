{
 "cells": [
  {
   "cell_type": "code",
   "execution_count": 84,
   "id": "ada0463b",
   "metadata": {},
   "outputs": [],
   "source": [
    "import numpy as np\n",
    "import math\n",
    "import linecache as lc"
   ]
  },
  {
   "cell_type": "code",
   "execution_count": 85,
   "id": "d2ba6cac",
   "metadata": {
    "scrolled": true
   },
   "outputs": [
    {
     "name": "stdout",
     "output_type": "stream",
     "text": [
      "please input the number of results required:20\n"
     ]
    }
   ],
   "source": [
    "# command line input top-k\n",
    "k = int(input('please input the number of results required:'))"
   ]
  },
  {
   "cell_type": "code",
   "execution_count": 86,
   "id": "25bc0258",
   "metadata": {},
   "outputs": [],
   "source": [
    "# read file rnd.txt and build an array for further index\n",
    "score_rnd = []\n",
    "with open('rnd.txt','r') as file:\n",
    "    for line in file:\n",
    "        new_line = line.split(' ')\n",
    "        new_line_float = list(map(float, new_line))\n",
    "        score_rnd.append(new_line_float[1])\n",
    "\n",
    "score_rnd = np.array(score_rnd)"
   ]
  },
  {
   "cell_type": "code",
   "execution_count": 87,
   "id": "bef42d9d",
   "metadata": {},
   "outputs": [],
   "source": [
    "# function read files seq1.txt and seq2.txt by line\n",
    "def readtxtline (filename, a):\n",
    "    new_line = lc.getline(filename, a).strip().split(' ')\n",
    "    seq_id = int(new_line[0])\n",
    "    score = float(new_line[1])\n",
    "    return [seq_id, score]"
   ]
  },
  {
   "cell_type": "code",
   "execution_count": 88,
   "id": "abc89b24",
   "metadata": {},
   "outputs": [],
   "source": [
    "# set info of filename for readtxtline function\n",
    "fn1 = 'seq1.txt'\n",
    "fn2 = 'seq2.txt'\n",
    "\n",
    "# set empty list for the further loop to enter and update total scores from the three files\n",
    "total_score = []\n",
    "\n",
    "# empty list to collect all the objects' IDs have been seen\n",
    "IDs = []\n",
    "\n",
    "# the top-k results\n",
    "Wk = []"
   ]
  },
  {
   "cell_type": "code",
   "execution_count": 89,
   "id": "968f2a17",
   "metadata": {},
   "outputs": [],
   "source": [
    "# the scan loop to add objects into the total_score[] list\n",
    "\n",
    "for j in range(len(score_rnd)):\n",
    "    o1 = readtxtline(fn1,j+1) # read seq1.txt by line\n",
    "    o2 = readtxtline(fn2,j+1) # read seq2.txt by line\n",
    "    id_o1 = o1[0]\n",
    "    id_o2 = o2[0] # IDs of the objects to be added into IDs[]\n",
    "\n",
    "#check if the ID of the current object is already read, then calculate the total score\n",
    "# if the ID is new, then calculate the lower bound score\n",
    "# and add the ID into list, for further check\n",
    "# [id, lb score or total score, score type] \n",
    "## 1 stands for object firstly read from seq1, 2 stands for object firstly read from seq2, 3 stands for object with total score\n",
    "    if id_o1 in IDs:\n",
    "        for i , sub_o in enumerate(total_score):\n",
    "            if sub_o[0] == id_o1:\n",
    "                O1 = [o1[0],o1[1]+total_score[i][1],3]\n",
    "                total_score[i] = O1\n",
    "    else:\n",
    "        O1 = [o1[0],o1[1]+score_rnd[o1[0]],1]\n",
    "        total_score.append(O1)\n",
    "        IDs.append(id_o1)\n",
    "    \n",
    "    if id_o2 in IDs:\n",
    "        for i , sub_o in enumerate(total_score):\n",
    "            if sub_o[0] == id_o2:\n",
    "                O2 = [o2[0],o2[1]+total_score[i][1],3]\n",
    "                total_score[i] = O2\n",
    "    else:\n",
    "        O2 = [o2[0],o2[1]+score_rnd[o2[0]],2]\n",
    "        total_score.append(O2)\n",
    "        IDs.append(id_o2)\n",
    "    \n",
    "    # sort the total_score[] in ascending order base on the lb score or total score of the objects\n",
    "    total_score = sorted(total_score, key = lambda x:x[1])\n",
    "    \n",
    "    # calculate the T sum value to judge if the scan entering shrink phase\n",
    "    Tsum = o1[1]+o2[1]+5.0\n",
    "    if len(total_score) >= k:\n",
    "        # TA is the lowest lb or total score of current top-k objects\n",
    "        TA = total_score[-k][1]\n",
    "        if Tsum <= TA :\n",
    "            # then we start to calculate the upper bound score for the most potential objects already in the list\n",
    "            # objects from seq1 and seq2 both have the potential to surpass the current top-k\n",
    "            # ub1 stands for the upper bound score of seq1 object, ub2 stands for that of seq2 object\n",
    "            ub1 = None\n",
    "            ub2 = None\n",
    "            \n",
    "            # check the objects from seq1.txt whose lb is now the highest among [id, lb score, 1]\n",
    "            for i in range(len(total_score)-1, -1, -1):\n",
    "                if total_score[i][-1] == 1:\n",
    "                    ub1 = total_score[i][1]+o2[1]\n",
    "                \n",
    "                if ub1 is not None:\n",
    "                    break\n",
    "            \n",
    "            # check the objects from seq2.txt whose lb is now the highest among [id, lb score, 2]\n",
    "            for i in range(len(total_score)-1, -1, -1):\n",
    "                if total_score[i][-1] == 2:\n",
    "                    ub2 = total_score[i][1]+o1[1]\n",
    "                    \n",
    "                if ub2 is not None:\n",
    "                    break\n",
    "                    \n",
    "            # the scan loop can stop when both ub1 and ub2 <= lowest total score of current top-k objects\n",
    "            if ub1 <= TA and ub2 <= TA:\n",
    "                break"
   ]
  },
  {
   "cell_type": "code",
   "execution_count": 90,
   "id": "87c55000",
   "metadata": {},
   "outputs": [
    {
     "name": "stdout",
     "output_type": "stream",
     "text": [
      "Number of sequential accesses = 9046\n",
      "Top 20 objects:\n",
      "50905: 14.84\n",
      "85861: 14.76\n",
      "22652: 14.74\n",
      "75232: 14.74\n",
      "20132: 14.74\n",
      "21824: 14.7\n",
      "9041: 14.66\n",
      "97866: 14.65\n",
      "83759: 14.64\n",
      "96407: 14.58\n",
      "35055: 14.57\n",
      "594: 14.54\n",
      "16564: 14.54\n",
      "78315: 14.54\n",
      "33288: 14.52\n",
      "79330: 14.51\n",
      "11283: 14.49\n",
      "4885: 14.47\n",
      "9745: 14.45\n",
      "55165: 14.44\n"
     ]
    }
   ],
   "source": [
    "# take out the top-k objects from the sorted total_score[] as results\n",
    "Wk = list(reversed(total_score[-k:]))\n",
    "\n",
    "# j means the loop's number-1\n",
    "print('Number of sequential accesses = ' + str(j*2+2))\n",
    "print('Top ' + str(k) + ' objects:')\n",
    "for i in Wk:\n",
    "    print(str(i[0]) + ': ' + str(round(i[1],2)))"
   ]
  },
  {
   "cell_type": "code",
   "execution_count": null,
   "id": "229ff4e8",
   "metadata": {},
   "outputs": [],
   "source": []
  }
 ],
 "metadata": {
  "kernelspec": {
   "display_name": "Python 3 (ipykernel)",
   "language": "python",
   "name": "python3"
  },
  "language_info": {
   "codemirror_mode": {
    "name": "ipython",
    "version": 3
   },
   "file_extension": ".py",
   "mimetype": "text/x-python",
   "name": "python",
   "nbconvert_exporter": "python",
   "pygments_lexer": "ipython3",
   "version": "3.9.12"
  }
 },
 "nbformat": 4,
 "nbformat_minor": 5
}

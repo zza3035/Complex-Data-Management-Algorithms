{
 "cells": [
  {
   "cell_type": "code",
   "execution_count": 65,
   "id": "d8a3bf4a",
   "metadata": {},
   "outputs": [],
   "source": [
    "import numpy as np\n",
    "import pymorton as pm\n",
    "import math"
   ]
  },
  {
   "cell_type": "code",
   "execution_count": 76,
   "id": "4f820bc4",
   "metadata": {},
   "outputs": [
    {
     "name": "stdout",
     "output_type": "stream",
     "text": [
      "please input your coordination file:coords.txt\n",
      "please input your offsests file:offsets.txt\n"
     ]
    }
   ],
   "source": [
    "# read txt files\n",
    "coords = input('please input your coordination file:')\n",
    "offs = input('please input your offsests file:')\n",
    "coordinates = []\n",
    "with open(coords,'r') as file:\n",
    "    for line in file:\n",
    "        new_line = line.split(',')\n",
    "        new_line_float = list(map(float, new_line))\n",
    "        coordinates.append(new_line_float)\n",
    "\n",
    "offsets = []\n",
    "with open(offs,'r') as file:\n",
    "    for line in file:\n",
    "        new_line = line.split(',')\n",
    "        new_line_int = list(map(int, new_line))\n",
    "        offsets.append(new_line_int)\n",
    "\n",
    "# combine coords and offsets to read the polygons\n",
    "# calculate MBR and global MBR of the polygons\n",
    "polygonsMBR = []\n",
    "\n",
    "def MBR(coords):\n",
    "    min_x, min_y = np.min(coords, axis=0)\n",
    "    max_x, max_y = np.max(coords, axis=0)\n",
    "    return [min_x, max_x, min_y, max_y]\n",
    "\n",
    "def global_MBR(coordset):\n",
    "    xmin_MBR = []\n",
    "    xmax_MBR = []\n",
    "    ymin_MBR = []\n",
    "    ymax_MBR = []\n",
    "\n",
    "    for i in coordset:\n",
    "        xmin_MBR.append(i[0])\n",
    "        xmax_MBR.append(i[1])\n",
    "        ymin_MBR.append(i[2])\n",
    "        ymax_MBR.append(i[3])\n",
    "    \n",
    "    return [min(xmin_MBR), max(xmax_MBR), min(ymin_MBR), max(ymax_MBR)]\n",
    "\n",
    "\n",
    "for i in offsets:\n",
    "    poly_id = i[0]\n",
    "    startOffset = i[1]\n",
    "    endOffset = i[2]+1\n",
    "    poly = coordinates[startOffset:endOffset]\n",
    "    theMBR = MBR(poly)\n",
    "    polygons = [poly_id, theMBR]\n",
    "    polygonsMBR.append(polygons)"
   ]
  },
  {
   "cell_type": "code",
   "execution_count": 77,
   "id": "456b3423",
   "metadata": {},
   "outputs": [],
   "source": [
    "# calculate geometric centers\n",
    "# compute the z-order value of the centers (interleave_latlng)\n",
    "polygonsMBRunsort = []\n",
    "\n",
    "for i in polygonsMBR:\n",
    "    ave_x = (i[1][0]+i[1][1])/2\n",
    "    ave_y = (i[1][2]+i[1][3])/2\n",
    "    Geocenter_zscore = pm.interleave_latlng(ave_y,ave_x)\n",
    "    polygons = [i[0],i[1],Geocenter_zscore]\n",
    "    polygonsMBRunsort.append(polygons)\n",
    "\n",
    "# sort the z-order value of the MBR\n",
    "polygonsMBRsorted = sorted(polygonsMBRunsort, key=lambda x:x[2]) #with zscore\n",
    "\n",
    "MBRsorted = [] #without zscore\n",
    "for i in polygonsMBRsorted:\n",
    "    polygons = i[:2]\n",
    "    MBRsorted.append(polygons)"
   ]
  },
  {
   "cell_type": "code",
   "execution_count": 78,
   "id": "f442b5f5",
   "metadata": {},
   "outputs": [],
   "source": [
    "#build Rtree"
   ]
  },
  {
   "cell_type": "code",
   "execution_count": 79,
   "id": "2f385edf",
   "metadata": {},
   "outputs": [],
   "source": [
    "# set the node capacity for the Rtree\n",
    "nodecapacityM = 20\n",
    "nodecapacitym = 0.4*nodecapacityM\n",
    "\n",
    "#calculate the numbers of leaf node in the Rtree\n",
    "leafnodeNo = math.ceil(len(MBRsorted)/nodecapacityM)\n",
    "\n",
    "#calculate the numbers and levels of nonleaf node part of the Rtree\n",
    "nonleafnodeNo = math.ceil(leafnodeNo/nodecapacityM)\n",
    "nonleafnode_level = [nonleafnodeNo]\n",
    "while nonleafnodeNo > 1:\n",
    "    nonleafnodeNo = math.ceil(nonleafnodeNo/nodecapacityM)\n",
    "    nonleafnode_level.append(nonleafnodeNo)\n",
    "\n",
    "Rtreelevel = len(nonleafnode_level)+1"
   ]
  },
  {
   "cell_type": "code",
   "execution_count": 80,
   "id": "c028bc23",
   "metadata": {},
   "outputs": [
    {
     "name": "stdout",
     "output_type": "stream",
     "text": [
      "500 nodes at level 0\n",
      "25 nodes at level 1\n",
      "2 nodes at level 2\n",
      "1 nodes at level 3\n"
     ]
    }
   ],
   "source": [
    "#print vertices per level of the Rtree\n",
    "print(str(leafnodeNo) + ' nodes at level 0')\n",
    "\n",
    "L = 1\n",
    "for i in nonleafnode_level:\n",
    "    print(str(i) + ' nodes at level ' + str(L))\n",
    "    L += 1"
   ]
  },
  {
   "cell_type": "code",
   "execution_count": 81,
   "id": "ad3d2bdb",
   "metadata": {},
   "outputs": [],
   "source": [
    "#construct the leaf nodes of the Rtree\n",
    "#assume that each R-tree node has maximum capacity 20 and minimum number of entries 0.4*20 = 8\n",
    "Rtree_leaf = []\n",
    "idNo = 0\n",
    "\n",
    "if 0 < len(MBRsorted)%nodecapacityM < nodecapacitym:\n",
    "    MBRsorted_cut = MBRsorted[:int(-nodecapacitym)]\n",
    "    MBRsorted_tail = [MBRsorted[int(-nodecapacitym):]]\n",
    "    nodelist0 = [MBRsorted_cut[i:i+20] for i in range (0, len(MBRsorted_cut), nodecapacityM)]\n",
    "    nodelist0.extend(MBRsorted_tail)\n",
    "    \n",
    "else:\n",
    "    nodelist0 = [MBRsorted[i:i+20] for i in range (0, len(MBRsorted), nodecapacityM)]\n",
    "    \n",
    "    \n",
    "for i in nodelist0:\n",
    "    leafnode = [0, idNo, i]\n",
    "    Rtree_leaf.append(leafnode)\n",
    "    idNo += 1"
   ]
  },
  {
   "cell_type": "code",
   "execution_count": 82,
   "id": "831b9134",
   "metadata": {},
   "outputs": [],
   "source": [
    "# construct the upper levels of the tree\n",
    "def build_rtree(lst):\n",
    "    theMBR = []\n",
    "    Rtree_nonleaf0 = []\n",
    "    global idNo\n",
    "    nodeid = 0\n",
    "    for i in lst:\n",
    "        nodeMBR = []\n",
    "        for j in i[2]:\n",
    "            nodeMBR.append(j[1])\n",
    "        globalnodeMBR = [nodeid, global_MBR(nodeMBR)]\n",
    "        theMBR.append(globalnodeMBR)\n",
    "        nodeid += 1\n",
    "        \n",
    "    if 0 < len(theMBR)%nodecapacityM < nodecapacitym:\n",
    "        MBRsorted_cut = theMBR[:int(-nodecapacitym)]\n",
    "        MBRsorted_tail = [theMBR[int(-nodecapacitym):]]\n",
    "        nodelist1 = [MBRsorted_cut[i:i+20] for i in range (0, len(MBRsorted_cut), nodecapacityM)]\n",
    "        nodelist1.extend(MBRsorted_tail)\n",
    "    else:\n",
    "        nodelist1 = [theMBR[i:i+20] for i in range (0, len(theMBR), nodecapacityM)]\n",
    "    \n",
    "    for i in nodelist1:\n",
    "        nonleafnode = [1, idNo, i]\n",
    "        Rtree_nonleaf0.append(nonleafnode)\n",
    "        idNo += 1\n",
    "    return Rtree_nonleaf0\n",
    "\n",
    "\n",
    "idNo = len(Rtree_leaf)\n",
    "Rtree = [Rtree_leaf]\n",
    "\n",
    "#build a Rtree with level division\n",
    "for i in range(Rtreelevel-1):\n",
    "    Rtree_nonleaf = build_rtree(Rtree[-1])\n",
    "    Rtree.append(Rtree_nonleaf)\n",
    "\n",
    "#build a Rtree without level division\n",
    "Rtree_withoutlevel = []\n",
    "for i in Rtree:\n",
    "    for j in i:\n",
    "        Rtree_withoutlevel.append(j)\n",
    "        "
   ]
  },
  {
   "cell_type": "code",
   "execution_count": 83,
   "id": "f1941793",
   "metadata": {},
   "outputs": [],
   "source": [
    "# write output text file\n",
    "str_list = [str(sub_list) for sub_list in Rtree_withoutlevel]\n",
    "with open('Rtree.txt','w') as f:\n",
    "    for sub_list in str_list:\n",
    "        f.write(sub_list + '\\n')"
   ]
  },
  {
   "cell_type": "code",
   "execution_count": null,
   "id": "1c8b952b",
   "metadata": {},
   "outputs": [],
   "source": []
  }
 ],
 "metadata": {
  "kernelspec": {
   "display_name": "Python 3 (ipykernel)",
   "language": "python",
   "name": "python3"
  },
  "language_info": {
   "codemirror_mode": {
    "name": "ipython",
    "version": 3
   },
   "file_extension": ".py",
   "mimetype": "text/x-python",
   "name": "python",
   "nbconvert_exporter": "python",
   "pygments_lexer": "ipython3",
   "version": "3.9.12"
  }
 },
 "nbformat": 4,
 "nbformat_minor": 5
}

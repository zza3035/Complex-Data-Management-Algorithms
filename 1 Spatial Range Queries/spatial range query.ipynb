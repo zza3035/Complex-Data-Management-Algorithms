{
 "cells": [
  {
   "cell_type": "code",
   "execution_count": 6,
   "id": "f865dc8c",
   "metadata": {},
   "outputs": [],
   "source": [
    "# import\n",
    "\n",
    "import csv\n",
    "import numpy as np"
   ]
  },
  {
   "cell_type": "code",
   "execution_count": 7,
   "id": "935d8231",
   "metadata": {},
   "outputs": [],
   "source": [
    "# read csv files\n",
    "\n",
    "with open('polygons.csv', newline='') as csvfile0:\n",
    "    Poly = list(csv.reader(csvfile0))\n",
    "\n",
    "with open('Wqueries.csv', newline='') as csvfile1:\n",
    "    Wq = list(csv.reader(csvfile1))\n",
    "    \n",
    "with open('Dqueries.csv', newline='') as csvfile2:\n",
    "    Dq = list(csv.reader(csvfile2))"
   ]
  },
  {
   "cell_type": "code",
   "execution_count": 12,
   "id": "550ba79a",
   "metadata": {},
   "outputs": [],
   "source": [
    "# string to float\n",
    "\n",
    "def strtofloat(string_data):\n",
    "    return list(map(float, string_data))\n",
    "\n",
    "# calculate MBR\n",
    "\n",
    "def MBR(coordination):\n",
    "    min_x, min_y = np.min(coordination, axis=0)\n",
    "    max_x, max_y = np.max(coordination, axis=0)\n",
    "    return [min_x, max_x, min_y, max_y]\n",
    "\n",
    "# calculate global MBR\n",
    "\n",
    "def globalMBR(coordset):\n",
    "    xmin_MBR = []\n",
    "    xmax_MBR = []\n",
    "    ymin_MBR = []\n",
    "    ymax_MBR = []\n",
    "\n",
    "    for i in coordset:\n",
    "        xmin_MBR.append(i[0])\n",
    "        xmax_MBR.append(i[1])\n",
    "        ymin_MBR.append(i[2])\n",
    "        ymax_MBR.append(i[3])\n",
    "    \n",
    "    return [min(xmin_MBR), max(xmax_MBR), min(ymin_MBR), max(ymax_MBR)]"
   ]
  },
  {
   "cell_type": "code",
   "execution_count": 13,
   "id": "03e4e075",
   "metadata": {},
   "outputs": [],
   "source": [
    "# calculate all the polygons\n",
    "\n",
    "polygons = []\n",
    "\n",
    "for i in Poly:\n",
    "    newlist = []\n",
    "    for j in i:\n",
    "        newj = j.split(' ')\n",
    "        newj_float = strtofloat(newj)\n",
    "        newlist.append(newj_float)\n",
    "    polygons.append(newlist)\n",
    "\n",
    "# calculate all the polygons' MBRs\n",
    "\n",
    "polygon_MBR = []\n",
    "\n",
    "for i in polygons:\n",
    "    theMBR = MBR(i)\n",
    "    polygon_MBR.append(theMBR)\n",
    "    \n",
    "global_MBR = globalMBR(polygon_MBR)"
   ]
  },
  {
   "cell_type": "code",
   "execution_count": 16,
   "id": "b13a9828",
   "metadata": {},
   "outputs": [
    {
     "name": "stdout",
     "output_type": "stream",
     "text": [
      "first polygon: [[-87.866893, 32.825274], [-87.863009, 32.815742], [-87.863257, 32.815652], [-87.867142, 32.82521], [-87.866893, 32.825274]]\n",
      "first polygon's MBR: [-87.867142, -87.863009, 32.815652, 32.825274]\n",
      "the global MBR: [-179.147236, 178.591597, -14.548699, 71.359879]\n"
     ]
    }
   ],
   "source": [
    "print('first polygon: ' + str(polygons[0]))\n",
    "print('first polygon\\'s MBR: ' + str(polygon_MBR[0]))\n",
    "print('the global MBR: ' + str(global_MBR))"
   ]
  },
  {
   "cell_type": "code",
   "execution_count": 17,
   "id": "b8104d44",
   "metadata": {},
   "outputs": [],
   "source": [
    "# rectangular range queries"
   ]
  },
  {
   "cell_type": "code",
   "execution_count": 25,
   "id": "3a0d6752",
   "metadata": {},
   "outputs": [
    {
     "name": "stdout",
     "output_type": "stream",
     "text": [
      "query:[-88.0, -87.5, 32.5, 33.0] has 19 results in the filter step: [0, 1, 2, 3, 40, 43, 746, 749, 760, 1371, 1372, 1375, 1376, 2611, 2612, 2613, 2854, 2880, 2882]\n",
      "query:[-88.0, -87.0, 32.0, 32.5] has 71 results in the filter step: [742, 743, 744, 745, 747, 748, 750, 752, 753, 754, 755, 756, 757, 758, 759, 761, 762, 763, 764, 765, 766, 767, 768, 769, 770, 771, 772, 897, 901, 902, 903, 911, 913, 1351, 1353, 1354, 1355, 1356, 1357, 1358, 1359, 1360, 1363, 1364, 1365, 1366, 1367, 1368, 1373, 1374, 2304, 2306, 2307, 2310, 2311, 2312, 2314, 2315, 2319, 2320, 2322, 2325, 2326, 2327, 2333, 2334, 2340, 2576, 2734, 2786, 2927]\n",
      "query:[-87.5, -87.0, 33.0, 34.0] has 76 results in the filter step: [446, 495, 496, 500, 644, 645, 652, 657, 658, 659, 660, 661, 662, 664, 665, 667, 671, 672, 675, 677, 688, 690, 692, 693, 695, 698, 700, 701, 702, 703, 704, 705, 706, 707, 709, 711, 713, 715, 718, 719, 721, 722, 725, 726, 727, 728, 729, 731, 732, 737, 738, 740, 741, 1016, 1017, 1020, 1022, 1023, 1024, 1029, 1030, 1031, 1032, 1033, 1037, 1129, 1130, 2578, 2584, 2603, 2604, 2633, 2830, 2831, 2923, 2928]\n",
      "query:[-89.0, -88.5, 32.5, 33.0] has 88 results in the filter step: [64199, 64203, 64204, 64207, 64211, 64215, 64216, 64218, 64219, 64221, 64226, 64227, 64230, 64231, 64701, 64731, 64736, 64742, 64744, 64747, 64749, 64756, 64759, 64767, 64770, 64774, 65269, 65271, 65280, 65282, 65286, 65305, 65314, 65569, 65570, 65571, 65572, 65574, 65575, 65576, 65577, 65578, 65579, 65580, 65581, 65582, 65584, 65586, 65587, 65588, 65589, 65590, 65594, 65595, 65596, 65597, 65600, 65601, 65602, 65603, 65605, 65606, 65609, 65612, 65613, 65614, 65615, 65616, 65617, 65618, 65619, 65620, 66124, 66126, 66127, 66128, 66132, 66133, 66134, 66135, 66136, 66137, 66138, 66139, 66140, 66141, 66142, 66549]\n",
      "query:[-89.0, -88.5, 33.0, 34.0] has 108 results in the filter step: [64049, 64050, 64051, 64052, 64053, 64054, 64055, 64056, 64057, 64058, 64059, 64060, 64061, 64062, 64063, 64064, 64065, 64066, 64067, 64069, 64070, 64071, 64072, 64074, 64075, 64076, 64077, 64201, 64205, 64206, 64208, 64209, 64213, 64217, 64220, 64222, 64223, 64224, 64225, 64228, 64229, 64635, 64640, 64669, 64670, 64671, 64672, 64673, 64679, 64688, 64689, 64728, 64729, 64730, 64733, 64734, 64737, 64739, 64741, 64743, 64745, 64746, 64748, 64750, 64751, 64752, 64758, 64760, 64761, 64763, 64766, 64768, 64771, 64775, 64776, 65321, 65322, 65325, 65384, 65385, 65386, 65388, 65389, 65390, 65391, 65392, 65393, 65395, 65396, 65400, 65401, 65405, 65406, 66454, 66455, 66481, 66486, 66585, 66586, 66592, 66593, 66594, 66655, 66656, 66668, 66681, 66717, 66735]\n",
      "query:[-89.5, -89.0, 32.5, 33.0] has 13 results in the filter step: [64048, 66125, 66129, 66130, 66131, 66135, 66143, 66144, 66565, 66587, 66588, 66704, 66713]\n"
     ]
    }
   ],
   "source": [
    "# range query function\n",
    "\n",
    "def Windowquery(Wquery, recMBR):\n",
    "    Wx_min = Wquery[0]\n",
    "    Wx_max = Wquery[1]\n",
    "    Wy_min = Wquery[2]\n",
    "    Wy_max = Wquery[3]\n",
    "    \n",
    "    polygon_number = 0\n",
    "    intersection_rec = []\n",
    "    \n",
    "    for i in polygon_MBR:\n",
    "        xmin = i[0]\n",
    "        xmax = i[1]\n",
    "        ymin = i[2]\n",
    "        ymax = i[3]\n",
    "        \n",
    "        if xmax< Wx_min or xmin > Wx_max or ymax < Wy_min or ymin > Wy_max:\n",
    "            polygon_number+= 1\n",
    "        else:\n",
    "            intersection_rec.append(polygon_number)\n",
    "            polygon_number+= 1\n",
    "            \n",
    "    return intersection_rec\n",
    "\n",
    "# transfer Wqueries\n",
    "\n",
    "Wqueries = []\n",
    "for i in Wq:\n",
    "    i_float = strtofloat(i)\n",
    "    Wqueries.append(i_float)\n",
    "    \n",
    "# scan Wqueries\n",
    "\n",
    "for q in Wqueries:\n",
    "    res_rec = Windowquery(q, polygon_MBR)\n",
    "    print('query:' + str(q) + ' has ' + str(len(res_rec)) + ' results in the filter step: ' + str(res_rec))\n",
    "    # print(q)\n",
    "    # print(Window_query(q, polygon_MBR))"
   ]
  },
  {
   "cell_type": "code",
   "execution_count": 26,
   "id": "6e0fd531",
   "metadata": {},
   "outputs": [],
   "source": [
    "# circle distance queries"
   ]
  },
  {
   "cell_type": "code",
   "execution_count": 34,
   "id": "6ca2008c",
   "metadata": {},
   "outputs": [
    {
     "name": "stdout",
     "output_type": "stream",
     "text": [
      "query:[-88.0, 32.0] with dist 0.2 has 10 results in the filter step: [745, 751, 758, 762, 1537, 1541, 1542, 1545, 1546, 1555]\n",
      "query:[-88.0, 32.0] with dist 0.4 has 75 results in the filter step: [293, 294, 295, 742, 744, 745, 748, 750, 751, 753, 756, 758, 759, 761, 762, 764, 765, 766, 767, 769, 772, 1514, 1515, 1516, 1517, 1518, 1520, 1523, 1524, 1525, 1526, 1528, 1529, 1530, 1531, 1532, 1533, 1534, 1535, 1536, 1537, 1540, 1541, 1542, 1543, 1544, 1545, 1546, 1547, 1548, 1551, 1552, 1553, 1554, 1555, 1556, 1557, 1558, 1559, 1560, 1561, 1563, 1573, 1577, 1578, 1579, 2328, 2329, 2330, 2560, 2734, 2761, 2762, 2881, 2915]\n",
      "query:[-88.0, 32.0] with dist 0.6 has 165 results in the filter step: [284, 285, 286, 287, 288, 289, 290, 291, 292, 293, 294, 295, 321, 325, 327, 328, 329, 330, 331, 332, 333, 334, 335, 336, 338, 351, 352, 520, 521, 522, 523, 742, 743, 744, 745, 746, 747, 748, 749, 750, 751, 753, 754, 755, 756, 757, 758, 759, 760, 761, 762, 763, 764, 765, 766, 767, 768, 769, 770, 771, 772, 1514, 1515, 1516, 1517, 1518, 1519, 1520, 1521, 1522, 1523, 1524, 1525, 1526, 1527, 1528, 1529, 1530, 1531, 1532, 1533, 1534, 1535, 1536, 1537, 1538, 1539, 1540, 1541, 1542, 1543, 1544, 1545, 1546, 1547, 1548, 1549, 1550, 1551, 1552, 1553, 1554, 1555, 1556, 1557, 1558, 1559, 1560, 1561, 1562, 1563, 1564, 1565, 1566, 1567, 1568, 1569, 1570, 1571, 1572, 1573, 1574, 1575, 1576, 1577, 1578, 1579, 2313, 2314, 2315, 2316, 2318, 2322, 2323, 2327, 2328, 2329, 2330, 2332, 2333, 2334, 2337, 2339, 2341, 2560, 2664, 2734, 2761, 2762, 2854, 2881, 2886, 2889, 2915, 2929, 65290, 65294, 65308, 65311, 65316, 65748, 65768, 65769, 65770, 65773]\n",
      "query:[-90.0, 35.0] with dist 0.1 has 3 results in the filter step: [66436, 66677, 103846]\n",
      "query:[-90.0, 35.0] with dist 0.3 has 51 results in the filter step: [9302, 9498, 9499, 9500, 9501, 64860, 66436, 66437, 66438, 66439, 66440, 66441, 66442, 66443, 66444, 66445, 66492, 66493, 66677, 103839, 103840, 103841, 103842, 103843, 103844, 103845, 103846, 106471, 106472, 106502, 106503, 106527, 106530, 106531, 106532, 106533, 106534, 106559, 106564, 106565, 106571, 106576, 106577, 106578, 106579, 106580, 106581, 106583, 106584, 106585, 106586]\n",
      "query:[-90.0, 35.0] with dist 0.5 has 130 results in the filter step: [6502, 9302, 9498, 9499, 9500, 9501, 64170, 64172, 64174, 64175, 64177, 64180, 64183, 64188, 64190, 64193, 64194, 64196, 64198, 64851, 64852, 64853, 64854, 64855, 64856, 64857, 64858, 64859, 64860, 64861, 64862, 64863, 64864, 64865, 64866, 64867, 64868, 64869, 64870, 64871, 64872, 64873, 64874, 64875, 64876, 64877, 65118, 65119, 65125, 65416, 65417, 65418, 65419, 65420, 65421, 65424, 65431, 65432, 65433, 65438, 65439, 65441, 65444, 66436, 66437, 66438, 66439, 66440, 66441, 66442, 66443, 66444, 66445, 66492, 66493, 66625, 66626, 66627, 66633, 66677, 103839, 103840, 103841, 103842, 103843, 103844, 103845, 103846, 103847, 103848, 106041, 106054, 106065, 106068, 106162, 106163, 106164, 106165, 106166, 106167, 106169, 106174, 106191, 106193, 106471, 106472, 106502, 106503, 106527, 106528, 106529, 106530, 106531, 106532, 106533, 106534, 106559, 106564, 106565, 106571, 106576, 106577, 106578, 106579, 106580, 106581, 106583, 106584, 106585, 106586]\n"
     ]
    }
   ],
   "source": [
    "# distance query function\n",
    "def Distquery(Dquery, recMBR):\n",
    "    R = Dquery[2]\n",
    "    Xd = Dquery[0]\n",
    "    Yd = Dquery[1]\n",
    "    Q = Dquery[:2]\n",
    "    \n",
    "    polygon_number = 0\n",
    "    intersection_circle = []\n",
    "    \n",
    "    for i in recMBR:\n",
    "        X1 = i[0]\n",
    "        Y1 = i[2]\n",
    "        X2 = i[1]\n",
    "        Y2 = i[3]\n",
    "    \n",
    "        Xn = max(X1, min(Xd, X2))\n",
    "        Yn = max(Y1, min(Yd, Y2))\n",
    "    \n",
    "        Distx = Xn - Xd\n",
    "        Disty = Yn - Yd\n",
    "        \n",
    "        if (Distx**2 + Disty**2) <= R**2:\n",
    "            intersection_circle.append(polygon_number)\n",
    "            polygon_number+= 1\n",
    "        else:\n",
    "            polygon_number+= 1\n",
    "    \n",
    "    return Q, R, intersection_circle \n",
    "\n",
    "# transfer Dqueries\n",
    "\n",
    "Dqueries = []\n",
    "for i in Dq:\n",
    "    i_float = strtofloat(i)\n",
    "    Dqueries.append(i_float)\n",
    "    \n",
    "# scan Dqueries\n",
    "\n",
    "for q in Dqueries:\n",
    "    Q, R, res_circle = Distquery(q, polygon_MBR)\n",
    "    print('query:' + str(Q) + ' with dist ' + str(R) + ' has ' + str(len(res_circle)) + ' results in the filter step: ' + str(res_circle))\n"
   ]
  },
  {
   "cell_type": "code",
   "execution_count": null,
   "id": "0e0ca376",
   "metadata": {},
   "outputs": [],
   "source": []
  },
  {
   "cell_type": "code",
   "execution_count": null,
   "id": "90425410",
   "metadata": {},
   "outputs": [],
   "source": []
  }
 ],
 "metadata": {
  "kernelspec": {
   "display_name": "Python 3 (ipykernel)",
   "language": "python",
   "name": "python3"
  },
  "language_info": {
   "codemirror_mode": {
    "name": "ipython",
    "version": 3
   },
   "file_extension": ".py",
   "mimetype": "text/x-python",
   "name": "python",
   "nbconvert_exporter": "python",
   "pygments_lexer": "ipython3",
   "version": "3.9.12"
  }
 },
 "nbformat": 4,
 "nbformat_minor": 5
}
